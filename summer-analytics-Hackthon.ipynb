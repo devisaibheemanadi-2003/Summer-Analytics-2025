{
 "cells": [
  {
   "cell_type": "code",
   "execution_count": 1,
   "id": "48a61620",
   "metadata": {
    "_cell_guid": "b1076dfc-b9ad-4769-8c92-a6c4dae69d19",
    "_uuid": "8f2839f25d086af736a60e9eeb907d3b93b6e0e5",
    "execution": {
     "iopub.execute_input": "2025-06-12T17:32:20.298594Z",
     "iopub.status.busy": "2025-06-12T17:32:20.298302Z",
     "iopub.status.idle": "2025-06-12T17:32:22.356005Z",
     "shell.execute_reply": "2025-06-12T17:32:22.354503Z"
    },
    "papermill": {
     "duration": 2.063926,
     "end_time": "2025-06-12T17:32:22.357740",
     "exception": false,
     "start_time": "2025-06-12T17:32:20.293814",
     "status": "completed"
    },
    "tags": []
   },
   "outputs": [
    {
     "name": "stdout",
     "output_type": "stream",
     "text": [
      "/kaggle/input/summer-analytics-mid-hackathon/hacktest.csv\n",
      "/kaggle/input/summer-analytics-mid-hackathon/hacktrain.csv\n"
     ]
    }
   ],
   "source": [
    "# This Python 3 environment comes with many helpful analytics libraries installed\n",
    "# It is defined by the kaggle/python Docker image: https://github.com/kaggle/docker-python\n",
    "# For example, here's several helpful packages to load\n",
    "\n",
    "import numpy as np # linear algebra\n",
    "import pandas as pd # data processing, CSV file I/O (e.g. pd.read_csv)\n",
    "\n",
    "# Input data files are available in the read-only \"../input/\" directory\n",
    "# For example, running this (by clicking run or pressing Shift+Enter) will list all files under the input directory\n",
    "\n",
    "import os\n",
    "for dirname, _, filenames in os.walk('/kaggle/input'):\n",
    "    for filename in filenames:\n",
    "        print(os.path.join(dirname, filename))\n",
    "\n",
    "# You can write up to 20GB to the current directory (/kaggle/working/) that gets preserved as output when you create a version using \"Save & Run All\" \n",
    "# You can also write temporary files to /kaggle/temp/, but they won't be saved outside of the current session\n",
    "\n",
    "import warnings\n",
    "warnings.filterwarnings('ignore')\n",
    "#filterwarnings('ignore'). This is useful in scenarios where warnings aren't relevant to your current execution and you want a clean output. import warnings warnings. filterwarnings('ignore') \n",
    "#Suppress all warnings warnings."
   ]
  },
  {
   "cell_type": "code",
   "execution_count": 2,
   "id": "0bfa612e",
   "metadata": {
    "execution": {
     "iopub.execute_input": "2025-06-12T17:32:22.365150Z",
     "iopub.status.busy": "2025-06-12T17:32:22.364711Z",
     "iopub.status.idle": "2025-06-12T17:32:24.383023Z",
     "shell.execute_reply": "2025-06-12T17:32:24.382048Z"
    },
    "papermill": {
     "duration": 2.023647,
     "end_time": "2025-06-12T17:32:24.384637",
     "exception": false,
     "start_time": "2025-06-12T17:32:22.360990",
     "status": "completed"
    },
    "tags": []
   },
   "outputs": [
    {
     "name": "stdout",
     "output_type": "stream",
     "text": [
      "Setup Complete\n"
     ]
    }
   ],
   "source": [
    "#Importing Necessary libraries\n",
    "import pandas as pd\n",
    "import numpy as np\n",
    "from sklearn.linear_model import LogisticRegression\n",
    "from sklearn.preprocessing import StandardScaler, LabelEncoder\n",
    "from sklearn.metrics import accuracy_score\n",
    "from scipy.signal import savgol_filter\n",
    "import warnings\n",
    "warnings.filterwarnings(\"ignore\")\n",
    "print(\"Setup Complete\")"
   ]
  },
  {
   "cell_type": "code",
   "execution_count": 3,
   "id": "03ef06b7",
   "metadata": {
    "execution": {
     "iopub.execute_input": "2025-06-12T17:32:24.391713Z",
     "iopub.status.busy": "2025-06-12T17:32:24.391268Z",
     "iopub.status.idle": "2025-06-12T17:32:24.480151Z",
     "shell.execute_reply": "2025-06-12T17:32:24.479229Z"
    },
    "papermill": {
     "duration": 0.094314,
     "end_time": "2025-06-12T17:32:24.481852",
     "exception": false,
     "start_time": "2025-06-12T17:32:24.387538",
     "status": "completed"
    },
    "tags": []
   },
   "outputs": [
    {
     "data": {
      "text/plain": [
       "(8000, 29)"
      ]
     },
     "execution_count": 3,
     "metadata": {},
     "output_type": "execute_result"
    }
   ],
   "source": [
    "#Loading training dataset\n",
    "hack_train_df = pd.read_csv(\"/kaggle/input/summer-analytics-mid-hackathon/hacktrain.csv\")\n",
    "\n",
    "# Drop unwanted columns\n",
    "if 'Unnamed: 0' in hack_train_df.columns:\n",
    "    hack_train_df.drop(columns=['Unnamed: 0'], inplace=True)\n",
    "\n",
    "ndvi_columns = [col for col in hack_train_df.columns if col.endswith('_N')]\n",
    "hack_train_df.shape"
   ]
  },
  {
   "cell_type": "code",
   "execution_count": 4,
   "id": "4a48353e",
   "metadata": {
    "execution": {
     "iopub.execute_input": "2025-06-12T17:32:24.489316Z",
     "iopub.status.busy": "2025-06-12T17:32:24.488726Z",
     "iopub.status.idle": "2025-06-12T17:32:29.201853Z",
     "shell.execute_reply": "2025-06-12T17:32:29.200712Z"
    },
    "papermill": {
     "duration": 4.719008,
     "end_time": "2025-06-12T17:32:29.203905",
     "exception": false,
     "start_time": "2025-06-12T17:32:24.484897",
     "status": "completed"
    },
    "tags": []
   },
   "outputs": [],
   "source": [
    "# SMOOTHING FUNCTION refers to techniques that reduce noise and variability in data, \n",
    "#revealing underlying trends and patterns\n",
    "def smooth(row):\n",
    "    if row.count() >= 5:\n",
    "        return savgol_filter(row, window_length=5, polyorder=2)\n",
    "    return row\n",
    "def preprocess_train(df):\n",
    "    df = df.copy()\n",
    "    df[ndvi_columns] = df[ndvi_columns].apply(pd.to_numeric, errors='coerce')\n",
    "    df[ndvi_columns] = df[ndvi_columns].interpolate(method='linear', axis=1, limit_direction='both')\n",
    "    df[ndvi_columns] = df[ndvi_columns].fillna(df[ndvi_columns].mean())\n",
    "    df[ndvi_columns] = df[ndvi_columns].apply(smooth, axis=1, result_type='broadcast')\n",
    "    return df\n",
    "hack_train_clean = preprocess_train(hack_train_df)"
   ]
  },
  {
   "cell_type": "code",
   "execution_count": 5,
   "id": "8dc30b32",
   "metadata": {
    "execution": {
     "iopub.execute_input": "2025-06-12T17:32:29.211198Z",
     "iopub.status.busy": "2025-06-12T17:32:29.210843Z",
     "iopub.status.idle": "2025-06-12T17:32:29.219484Z",
     "shell.execute_reply": "2025-06-12T17:32:29.218447Z"
    },
    "papermill": {
     "duration": 0.014228,
     "end_time": "2025-06-12T17:32:29.221177",
     "exception": false,
     "start_time": "2025-06-12T17:32:29.206949",
     "status": "completed"
    },
    "tags": []
   },
   "outputs": [],
   "source": [
    "#  FEATURE ENGINEERING\n",
    "def extract_features(df):\n",
    "    train_df_features = pd.DataFrame()\n",
    "    ndvi = df[ndvi_columns]\n",
    "\n",
    "    train_df_features[\"mean\"] = ndvi.mean(axis=1)\n",
    "    train_df_features[\"std\"] = ndvi.std(axis=1)\n",
    "    train_df_features[\"max\"] = ndvi.max(axis=1)\n",
    "    train_df_features[\"min\"] = ndvi.min(axis=1)\n",
    "    train_df_features[\"range\"] = train_df_features[\"max\"] - train_df_features[\"min\"]\n",
    "    train_df_features[\"median\"] = ndvi.median(axis=1)\n",
    "    train_df_features[\"skew\"] = ndvi.skew(axis=1)\n",
    "    train_df_features[\"kurt\"] = ndvi.kurtosis(axis=1)\n",
    "    train_df_features[\"q75\"] = ndvi.quantile(0.75, axis=1)\n",
    "    train_df_features[\"q25\"] = ndvi.quantile(0.25, axis=1)\n",
    "    train_df_features[\"iqr\"] = train_df_features[\"q75\"] - train_df_features[\"q25\"]\n",
    "    train_df_features[\"argmax\"] = ndvi.values.argmax(axis=1)\n",
    "\n",
    "    half = ndvi.shape[1] // 2\n",
    "    train_df_features[\"first_half_mean\"] = ndvi.iloc[:, :half].mean(axis=1)\n",
    "    train_df_features[\"second_half_mean\"] = ndvi.iloc[:, half:].mean(axis=1)\n",
    "    train_df_features[\"growth\"] = train_df_features[\"second_half_mean\"] - train_df_features[\"first_half_mean\"]\n",
    "\n",
    "    # Additional derived features\n",
    "    train_df_features[\"peak_to_mean\"] = train_df_features[\"max\"] / (train_df_features[\"mean\"] + 1e-6)\n",
    "    train_df_features[\"norm_amplitude\"] = (train_df_features[\"max\"] - train_df_features[\"min\"]) / (train_df_features[\"max\"] + train_df_features[\"min\"] + 1e-6)\n",
    "\n",
    "    return train_df_features"
   ]
  },
  {
   "cell_type": "code",
   "execution_count": 6,
   "id": "e1fd7811",
   "metadata": {
    "execution": {
     "iopub.execute_input": "2025-06-12T17:32:29.228368Z",
     "iopub.status.busy": "2025-06-12T17:32:29.228023Z",
     "iopub.status.idle": "2025-06-12T17:32:29.616159Z",
     "shell.execute_reply": "2025-06-12T17:32:29.615323Z"
    },
    "papermill": {
     "duration": 0.393902,
     "end_time": "2025-06-12T17:32:29.618038",
     "exception": false,
     "start_time": "2025-06-12T17:32:29.224136",
     "status": "completed"
    },
    "tags": []
   },
   "outputs": [],
   "source": [
    "# Prepare train data\n",
    "X_train = extract_features(hack_train_clean)\n",
    "y_train = hack_train_clean['class'].astype(str)\n",
    "\n",
    "# Encode labels\n",
    "label_encoder = LabelEncoder()\n",
    "y_train_encode = label_encoder.fit_transform(y_train)\n",
    "\n",
    "# Feature expansion and scaling\n",
    "from sklearn.preprocessing import PolynomialFeatures\n",
    "from sklearn.feature_selection import SelectKBest, f_classif\n",
    "\n",
    "polynomial_feature = PolynomialFeatures(degree=2, include_bias=False)\n",
    "X_train_poly = polynomial_feature.fit_transform(X_train)\n",
    "\n",
    "# Feature selection\n",
    "selector = SelectKBest(score_func=f_classif, k='all')\n",
    "X_train_selected = selector.fit_transform(X_train_poly, y_train_encode)\n",
    "\n",
    "scaler = StandardScaler()\n",
    "X_train_scaled = scaler.fit_transform(X_train_selected)"
   ]
  },
  {
   "cell_type": "code",
   "execution_count": 7,
   "id": "429e1dea",
   "metadata": {
    "execution": {
     "iopub.execute_input": "2025-06-12T17:32:29.625242Z",
     "iopub.status.busy": "2025-06-12T17:32:29.624927Z",
     "iopub.status.idle": "2025-06-12T17:32:36.525260Z",
     "shell.execute_reply": "2025-06-12T17:32:36.524334Z"
    },
    "papermill": {
     "duration": 6.90611,
     "end_time": "2025-06-12T17:32:36.527099",
     "exception": false,
     "start_time": "2025-06-12T17:32:29.620989",
     "status": "completed"
    },
    "tags": []
   },
   "outputs": [
    {
     "name": "stdout",
     "output_type": "stream",
     "text": [
      " Training Accuracy: 86.30%\n",
      " Data loaded\n"
     ]
    }
   ],
   "source": [
    "#  MODEL TRAINING\n",
    "LR_model = LogisticRegression(multi_class='multinomial', solver='lbfgs', max_iter=1000)\n",
    "LR_model.fit(X_train_scaled, y_train_encode)\n",
    "train_predicts = LR_model.predict(X_train_scaled)\n",
    "train_accuracy = accuracy_score(y_train_encode, train_predicts)\n",
    "\n",
    "print(f\" Training Accuracy: {train_accuracy * 100:.2f}%\")\n",
    "print(\" Data loaded\")"
   ]
  },
  {
   "cell_type": "code",
   "execution_count": 8,
   "id": "b60d934a",
   "metadata": {
    "execution": {
     "iopub.execute_input": "2025-06-12T17:32:36.538100Z",
     "iopub.status.busy": "2025-06-12T17:32:36.537522Z",
     "iopub.status.idle": "2025-06-12T17:32:36.571198Z",
     "shell.execute_reply": "2025-06-12T17:32:36.570407Z"
    },
    "papermill": {
     "duration": 0.041487,
     "end_time": "2025-06-12T17:32:36.573494",
     "exception": false,
     "start_time": "2025-06-12T17:32:36.532007",
     "status": "completed"
    },
    "tags": []
   },
   "outputs": [],
   "source": [
    "#  LOAD & PREDICT ON TEST DATA\n",
    "hack_test_df = pd.read_csv(\"/kaggle/input/summer-analytics-mid-hackathon/hacktest.csv\")\n",
    "if 'Unnamed: 0' in hack_test_df.columns:\n",
    "    hack_test_df.drop(columns=['Unnamed: 0'], inplace=True)"
   ]
  },
  {
   "cell_type": "code",
   "execution_count": 9,
   "id": "3efed843",
   "metadata": {
    "execution": {
     "iopub.execute_input": "2025-06-12T17:32:36.583755Z",
     "iopub.status.busy": "2025-06-12T17:32:36.583394Z",
     "iopub.status.idle": "2025-06-12T17:32:38.145179Z",
     "shell.execute_reply": "2025-06-12T17:32:38.144120Z"
    },
    "papermill": {
     "duration": 1.56911,
     "end_time": "2025-06-12T17:32:38.147102",
     "exception": false,
     "start_time": "2025-06-12T17:32:36.577992",
     "status": "completed"
    },
    "tags": []
   },
   "outputs": [],
   "source": [
    "# Prepocessing test dataset\n",
    "def preprocess_test(df):\n",
    "    df = df.copy()\n",
    "    df[ndvi_columns] = df[ndvi_columns].apply(pd.to_numeric, errors='coerce')\n",
    "    df[ndvi_columns] = df[ndvi_columns].interpolate(method='linear', axis=1, limit_direction='both')\n",
    "    df[ndvi_columns] = df[ndvi_columns].fillna(df[ndvi_columns].mean())\n",
    "    df[ndvi_columns] = df[ndvi_columns].apply(smooth, axis=1, result_type='broadcast')\n",
    "    return df\n",
    "hack_test_clean = preprocess_test(hack_test_df)\n",
    "X_test = extract_features(hack_test_clean)\n",
    "X_test_poly = polynomial_feature.transform(X_test)\n",
    "X_test_selected = selector.transform(X_test_poly)\n",
    "X_test_scaled = scaler.transform(X_test_selected)\n",
    "test_predicts = LR_model.predict(X_test_scaled)\n",
    "test_labels = label_encoder.inverse_transform(test_predicts)"
   ]
  },
  {
   "cell_type": "code",
   "execution_count": 10,
   "id": "33fff8dd",
   "metadata": {
    "execution": {
     "iopub.execute_input": "2025-06-12T17:32:38.154207Z",
     "iopub.status.busy": "2025-06-12T17:32:38.153845Z",
     "iopub.status.idle": "2025-06-12T17:32:38.173929Z",
     "shell.execute_reply": "2025-06-12T17:32:38.172901Z"
    },
    "papermill": {
     "duration": 0.025417,
     "end_time": "2025-06-12T17:32:38.175434",
     "exception": false,
     "start_time": "2025-06-12T17:32:38.150017",
     "status": "completed"
    },
    "tags": []
   },
   "outputs": [
    {
     "name": "stdout",
     "output_type": "stream",
     "text": [
      "   ID   class\n",
      "0   1  forest\n",
      "1   2  forest\n",
      "2   3  forest\n",
      "3   4  forest\n",
      "4   5  forest\n"
     ]
    }
   ],
   "source": [
    "#  EVALUATE ON TEST DATA (WITH LABELS)\n",
    "if 'class' in hack_test_df.columns:\n",
    "    y_test = hack_test_df['class'].astype(str)\n",
    "    y_test_encode = label_encoder.transform(y_test)\n",
    "    test_accuracy = accuracy_score(y_test_encode, test_predicts)\n",
    "    print(f\" Test Accuracy: {test_accuracy * 100:.2f}%\")\n",
    "\n",
    "    # Print full ID + predicted class format like leaderboard submission\n",
    "    print(\" Sample Prediction Output (ID,class):\")\n",
    "    for i in range(min(10, len(hack_test_df))):\n",
    "        print(f\"{hack_test_df['ID'].iloc[i]},{test_labels[i]}\")\n",
    "#  EXPORT SUBMISSION\n",
    "submission = pd.DataFrame({\n",
    "    'ID': hack_test_df['ID'],\n",
    "    'class': test_labels\n",
    "})\n",
    "submission.to_csv(\"submission.csv\", index=False)\n",
    "print(submission.head())"
   ]
  }
 ],
 "metadata": {
  "kaggle": {
   "accelerator": "none",
   "dataSources": [
    {
     "databundleVersionId": 12585144,
     "sourceId": 104491,
     "sourceType": "competition"
    }
   ],
   "dockerImageVersionId": 31040,
   "isGpuEnabled": false,
   "isInternetEnabled": false,
   "language": "python",
   "sourceType": "notebook"
  },
  "kernelspec": {
   "display_name": "Python 3",
   "language": "python",
   "name": "python3"
  },
  "language_info": {
   "codemirror_mode": {
    "name": "ipython",
    "version": 3
   },
   "file_extension": ".py",
   "mimetype": "text/x-python",
   "name": "python",
   "nbconvert_exporter": "python",
   "pygments_lexer": "ipython3",
   "version": "3.11.11"
  },
  "papermill": {
   "default_parameters": {},
   "duration": 23.607481,
   "end_time": "2025-06-12T17:32:38.899068",
   "environment_variables": {},
   "exception": null,
   "input_path": "__notebook__.ipynb",
   "output_path": "__notebook__.ipynb",
   "parameters": {},
   "start_time": "2025-06-12T17:32:15.291587",
   "version": "2.6.0"
  }
 },
 "nbformat": 4,
 "nbformat_minor": 5
}
